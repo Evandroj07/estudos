{
  "nbformat": 4,
  "nbformat_minor": 0,
  "metadata": {
    "colab": {
      "provenance": []
    },
    "kernelspec": {
      "name": "python3",
      "display_name": "Python 3"
    },
    "language_info": {
      "name": "python"
    }
  },
  "cells": [
    {
      "cell_type": "code",
      "execution_count": 8,
      "metadata": {
        "colab": {
          "base_uri": "https://localhost:8080/"
        },
        "id": "KBQr_e56dr93",
        "outputId": "1809c64d-b877-4687-ae30-ba3a297b46f5"
      },
      "outputs": [
        {
          "output_type": "stream",
          "name": "stdout",
          "text": [
            "<class 'bool'>\n"
          ]
        }
      ],
      "source": [
        "#Uninassau\n",
        "#Docente: Cloves Rocha\n",
        "#Estudante: Evandro José Rodrigues Torres Zacarias\n",
        "#Tipos Primitivos de Dados\n",
        "\n",
        "#print('Olá Mundo')\n",
        "\n",
        "e = False\n",
        "print(type(e))"
      ]
    }
  ]
}