{
  "nbformat": 4,
  "nbformat_minor": 0,
  "metadata": {
    "colab": {
      "provenance": [],
      "authorship_tag": "ABX9TyMc9tsomCId7d2CEYA5t7x+",
      "include_colab_link": true
    },
    "kernelspec": {
      "name": "python3",
      "display_name": "Python 3"
    },
    "language_info": {
      "name": "python"
    }
  },
  "cells": [
    {
      "cell_type": "markdown",
      "metadata": {
        "id": "view-in-github",
        "colab_type": "text"
      },
      "source": [
        "<a href=\"https://colab.research.google.com/github/Evandroj07/estudos/blob/main/aula2_ads2ma.ipynb\" target=\"_parent\"><img src=\"https://colab.research.google.com/assets/colab-badge.svg\" alt=\"Open In Colab\"/></a>"
      ]
    },
    {
      "cell_type": "code",
      "execution_count": 10,
      "metadata": {
        "colab": {
          "base_uri": "https://localhost:8080/"
        },
        "id": "KBQr_e56dr93",
        "outputId": "b6e7e975-3906-4a35-bf49-80250a0eb3b2"
      },
      "outputs": [
        {
          "output_type": "stream",
          "name": "stdout",
          "text": [
            "<class 'str'>\n"
          ]
        }
      ],
      "source": [
        "#Uninassau\n",
        "#Docente: Cloves Rocha\n",
        "#Estudante: Evandro José Rodrigues Torres Zacarias\n",
        "#Tipos Primitivos de Dados\n",
        "\n",
        "#print('Olá Mundo')\n",
        "\n",
        "E = 'Dado'\n",
        "print(type(E))"
      ]
    }
  ]
}